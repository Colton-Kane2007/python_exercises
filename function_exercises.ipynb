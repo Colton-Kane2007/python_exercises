{
 "cells": [
  {
   "cell_type": "code",
   "execution_count": 34,
   "metadata": {},
   "outputs": [],
   "source": [
    "# Define a function named is_two. It should accept one input and return True if the \n",
    "# passed input is either the number or the string 2, False otherwise.\n",
    "\n",
    "# is_two is a function that accepts user_input\n",
    "def is_two(user_input):\n",
    "    # returns boolean true if user_input is 2 or '2'\n",
    "    return user_input == 2 or user_input == \"2\""
   ]
  },
  {
   "cell_type": "code",
   "execution_count": 35,
   "metadata": {},
   "outputs": [],
   "source": [
    "# Define a function named is_vowel. It should return True if the passed string is a vowel, False otherwise.\n",
    "\n",
    "# is_vowel accepts given\n",
    "def is_vowel(given):\n",
    "    # return boolean true if string is a vowel\n",
    "    return given == 'a' or given == 'e' or given == 'i' or given == 'o' or given == 'u'"
   ]
  },
  {
   "cell_type": "code",
   "execution_count": 36,
   "metadata": {},
   "outputs": [],
   "source": [
    "# Define a function named is_consonant. It should return True if the passed string is a consonant, False otherwise. \n",
    "# Use your is_vowel function to accomplish this.\n",
    "\n",
    "# is_consonant accepts given\n",
    "def is_consonant(given):\n",
    "    # return boolean true if string is a consonant\n",
    "    return given != 'a' or given != 'e' or given != 'i' or given != 'o' or given != 'u'"
   ]
  },
  {
   "cell_type": "code",
   "execution_count": 45,
   "metadata": {},
   "outputs": [],
   "source": [
    "# Define a function that accepts a string that is a word. The function should capitalize the first letter \n",
    "# of the word if the word starts with a consonant.\n",
    "\n",
    "# is_consonant accepts given\n",
    "def is_consonant(given):\n",
    "    # return boolean true if string starts with a consonant\n",
    "    return given != 'a%' or given != 'e%' or given != 'i%' or given != 'o%' or given != 'u%'\n",
    "# cap accepts given\n",
    "def cap(given):\n",
    "    # if the word starts with a consonant\n",
    "    if is_consonant == given:\n",
    "        # return the first letter of the word as a capital\n",
    "        return given.capitalize"
   ]
  },
  {
   "cell_type": "code",
   "execution_count": 39,
   "metadata": {},
   "outputs": [],
   "source": [
    "# Define a function named apply_discount. It should accept a original price, and a discount percentage, \n",
    "# and return the price after the discount is applied.\n",
    "\n",
    "# apply_discount accept price and discount_perc\n",
    "def apply_discount(price, discount_perc):\n",
    "    # return the total price minus the discount price of the total price as a float\n",
    "    return float(price-(price * discount_perc))"
   ]
  },
  {
   "cell_type": "code",
   "execution_count": 40,
   "metadata": {},
   "outputs": [],
   "source": [
    "# Define a function named handle_commas. It should accept a string that is a number \n",
    "# that contains commas in it as input, and return a number as output.\n",
    "\n",
    "# handle_commas accepts commas\n",
    "def handle_commas(commas):\n",
    "    # return the input replacing commas with nothing\n",
    "    return commas.replace(',', '')\n",
    "\n"
   ]
  },
  {
   "cell_type": "code",
   "execution_count": 41,
   "metadata": {},
   "outputs": [],
   "source": [
    "# Define a function named get_letter_grade. It should accept a number and return the letter grade associated with that number (A-F).\n",
    "\n",
    "# get_letter_grade accepts grade\n",
    "def get_letter_grade(grade):\n",
    "    # if grade falls within parameters\n",
    "    if grade >= 88:\n",
    "        # return a letter grade\n",
    "        return 'A'\n",
    "    elif grade >= 80:\n",
    "        return 'B'\n",
    "    elif grade >= 67:\n",
    "        return 'C'\n",
    "    elif grade >= 60:\n",
    "        return 'D'\n",
    "    else:\n",
    "        return 'F'"
   ]
  },
  {
   "cell_type": "code",
   "execution_count": 42,
   "metadata": {},
   "outputs": [],
   "source": [
    "# Define a function named remove_vowels that accepts a string and returns a string with all the vowels removed.\n",
    "\n",
    "# remove_vowels accepts word\n",
    "def remove_vowels(word):\n",
    "    # return the word replacing vowels with nothing\n",
    "    return word.replace('a', ''), word.replace('e', ''), word.replace('i', ''), word.replace('o', ''), word.replace('u', '')"
   ]
  },
  {
   "cell_type": "code",
   "execution_count": 46,
   "metadata": {},
   "outputs": [],
   "source": [
    "# Define a function named normalize_name. It should accept a string and return a valid python identifier, that is:\n",
    "# anything that is not a valid python identifier should be removed\n",
    "# leading and trailing whitespace should be removed\n",
    "# everything should be lowercase\n",
    "# spaces should be replaced with underscores\n",
    "# for example:\n",
    "# Name will become name\n",
    "# First Name will become first_name\n",
    "# % Completed will become completed\n",
    "\n",
    "# normalize_name accepts name\n",
    "def normalize_name(name):\n",
    "    # return name without white space, as lower case, and replace space with underscore\n",
    "    return name.strip(), name.lower(), name.replace(' ', '_'), name.isalpha() or name.isdigit()"
   ]
  },
  {
   "cell_type": "code",
   "execution_count": 44,
   "metadata": {},
   "outputs": [],
   "source": [
    "# Write a function named cumulative_sum that accepts a list of numbers and returns a list that is the cumulative sum of the numbers in the list.\n",
    "# cumulative_sum([1, 1, 1]) returns [1, 2, 3]\n",
    "# cumulative_sum([1, 2, 3, 4]) returns [1, 3, 6, 10]\n",
    "\n",
    "# cumulative_sum accepts num\n",
    "def cumulative_sum(num):\n",
    "    # return the sum of num as a list\n",
    "    return [num].sum()"
   ]
  },
  {
   "cell_type": "code",
   "execution_count": null,
   "metadata": {},
   "outputs": [],
   "source": [
    "# Define a function named calculate_tip. \n",
    "# It should accept a tip percentage (a number between 0 and 1) and the bill total, and return the amount to tip.\n",
    "\n",
    "# calculate_tip_perc accepts perc\n",
    "def calculate_tip_perc(perc):\n",
    "    # return that percentage as a float if it is less than one\n",
    "    return float(perc < 1)\n",
    "# calculate_tip accepts bill\n",
    "def calculate_tip(bill):\n",
    "    # return the total bill price multiplied by the calculated tip price\n",
    "    return bill * calculate_tip_perc\n"
   ]
  }
 ],
 "metadata": {
  "kernelspec": {
   "display_name": "Python 3",
   "language": "python",
   "name": "python3"
  },
  "language_info": {
   "codemirror_mode": {
    "name": "ipython",
    "version": 3
   },
   "file_extension": ".py",
   "mimetype": "text/x-python",
   "name": "python",
   "nbconvert_exporter": "python",
   "pygments_lexer": "ipython3",
   "version": "3.9.6"
  },
  "orig_nbformat": 4
 },
 "nbformat": 4,
 "nbformat_minor": 2
}
